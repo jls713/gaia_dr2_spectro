{
 "cells": [
  {
   "cell_type": "code",
   "execution_count": 60,
   "metadata": {},
   "outputs": [],
   "source": [
    "%matplotlib inline\n",
    "from utils import read_fits_to_pandas"
   ]
  },
  {
   "cell_type": "code",
   "execution_count": 56,
   "metadata": {},
   "outputs": [
    {
     "name": "stdout",
     "output_type": "stream",
     "text": [
      "Processed: 203417 out of 258475\n",
      "Processed: 415200 out of 457555\n",
      "Processed: 10882 out of 25332\n",
      "Processed: 260233 out of 342682\n",
      "Processed: 2861310 out of 3177995\n",
      "Processed: 376316 out of 457555\n",
      "Processed: 182132 out of 187152\n"
     ]
    }
   ],
   "source": [
    "from astropy.table import Table\n",
    "apogee = Table.read('/data/jls/GaiaDR2/spectro/APOGEE_distances_withPRIOR_MASTER.hdf5')\n",
    "apogee_inputs = pd.read_hdf('/data/jls/GaiaDR2/spectro/APOGEE_input_MASTER.hdf5')\n",
    "print 'Processed:',np.count_nonzero(apogee['flag']==0.), 'out of', len(apogee)\n",
    "rave = Table.read('/data/jls/GaiaDR2/spectro/RAVE_DR5_distances_withPRIOR_MASTER.hdf5')\n",
    "rave_inputs = pd.read_hdf('/data/jls/GaiaDR2/spectro/RAVE_input_MASTER.hdf5')\n",
    "print 'Processed:',np.count_nonzero(rave['flag']==0.), 'out of', len(rave)\n",
    "ges = Table.read('/data/jls/GaiaDR2/spectro/GES_DR3_distances_withPRIOR_MASTER.hdf5')\n",
    "ges_inputs = pd.read_hdf('/data/jls/GaiaDR2/spectro/GES_input_MASTER.hdf5')\n",
    "print 'Processed:',np.count_nonzero(ges['flag']==0.), 'out of', len(ges)\n",
    "galah = Table.read('/data/jls/GaiaDR2/spectro/GALAH_distances_withPRIOR_MASTER.hdf5')\n",
    "galah_inputs = pd.read_hdf('/data/jls/GaiaDR2/spectro/GALAH_input_MASTER.hdf5')\n",
    "print 'Processed:',np.count_nonzero(galah['flag']==0.), 'out of', len(galah)\n",
    "lamost = Table.read('/data/jls/GaiaDR2/spectro/LAMOST_distances_withPRIOR_MASTER.hdf5')\n",
    "lamost_inputs = pd.read_hdf('/data/jls/GaiaDR2/spectro/LAMOST_input_MASTER.hdf5')\n",
    "print 'Processed:',np.count_nonzero(lamost['flag']==0.), 'out of', len(lamost)\n",
    "raveON = Table.read('/data/jls/GaiaDR2/spectro/RAVE_Cannon_distances_withPRIOR_MASTER.hdf5')\n",
    "raveON_inputs = pd.read_hdf('/data/jls/GaiaDR2/spectro/RAVEON_input_MASTER.hdf5')\n",
    "print 'Processed:',np.count_nonzero(raveON['flag']==0.), 'out of', len(raveON)\n",
    "\n",
    "from astropy.table import Table, vstack, join\n",
    "\n",
    "def flag_errors(data, covar_correction=True):\n",
    "    for col in ['dist_err', 'par_err', 'dm_err',\n",
    "                'log10_teff_err', 'logg_err', 'log10_av_err',\n",
    "                'log10_age_err',\n",
    "                'mass_err',\n",
    "                'Z_err', 'dm_log10age_corr', 'log10age_Z_corr', 'dm_Z_corr']:\n",
    "        data['flag'][(data['flag'] == 0) & (data[col] != data[col])] = 6\n",
    "        data['flag'][(data['flag'] == 0) & (data[col] == 0.)] = 6\n",
    "    data['flag'][(data['log10_age'] < -1)&(data['logg']>3.5)&(data['log10_teff']<3.9)] = 7\n",
    "    for col in ['dm_log10age_corr', 'log10age_Z_corr', 'dm_Z_corr']:\n",
    "        data['flag'][(data['flag'] == 0) & (np.abs(data[col]) > 1.)] = 6\n",
    "    return data\n",
    "\n",
    "def fillin(r, rfill, fld):\n",
    "    r['indx'] = np.arange(len(r))\n",
    "    rfill['indx'] = np.arange(len(rfill))\n",
    "    r2 = join(r[[fld, 'indx']],\n",
    "              rfill[[fld, 'indx']],\n",
    "              keys=fld, join_type='left')\n",
    "    r[r2['indx_1'][~r2['indx_2'].mask]] = \\\n",
    "        rfill[r2['indx_2'][~r2['indx_2'].mask]]\n",
    "    r.remove_column('indx')\n",
    "    return r\n",
    "\n",
    "segue = Table.read('/data/jls/GaiaDR2/spectro/SEGUE_distances_withPRIOR_MASTER.hdf5')\n",
    "rfill = Table.read(\n",
    "       '/data/jls/GaiaDR2/spectro/SEGUE_distances_withPRIOR_parallax_fillin.hdf5')\n",
    "rfill = flag_errors(rfill)\n",
    "segue = fillin(segue, rfill, 'specobjid')\n",
    "segue_inputs = pd.read_hdf('/data/jls/GaiaDR2/spectro/SEGUE_input_MASTER.hdf5')\n",
    "print 'Processed:',np.count_nonzero(segue['flag']==0.), 'out of', len(segue)"
   ]
  },
  {
   "cell_type": "code",
   "execution_count": 57,
   "metadata": {},
   "outputs": [],
   "source": [
    "la = pd.read_hdf('/data/jls/GaiaDR2/spectro/lamost_cannon/LAMOST_results.hdf5')\n",
    "lamost_inputs = lamost_inputs.merge(la,on='obsid',how='left')"
   ]
  },
  {
   "cell_type": "code",
   "execution_count": 58,
   "metadata": {},
   "outputs": [
    {
     "data": {
      "text/plain": [
       "(3177995, 728907)"
      ]
     },
     "execution_count": 58,
     "metadata": {},
     "output_type": "execute_result"
    }
   ],
   "source": [
    "len(lamost_inputs), len(la)"
   ]
  },
  {
   "cell_type": "code",
   "execution_count": 61,
   "metadata": {},
   "outputs": [],
   "source": [
    "ges = read_fits_to_pandas('/data/jls/ges/GES_iDR4_WG15_Recommended_v2.fits')\n",
    "ges_inputs = ges_inputs.merge(ges,on='CNAME',how='left')"
   ]
  },
  {
   "cell_type": "code",
   "execution_count": 71,
   "metadata": {},
   "outputs": [],
   "source": [
    "import sqlutil\n",
    "from login import wsdbpassword\n",
    "def grab_all_raveon():\n",
    "    data = sqlutil.get(\"\"\"select * from rave_on_1_0.main as r\"\"\",\n",
    "                       host='cappc127', user='jason_sanders',\n",
    "                       password=wsdbpassword,\n",
    "                       preamb='set enable_seqscan to off; ' +\n",
    "                              'set enable_mergejoin to off; ' +\n",
    "                              'set enable_hashjoin to off;', asDict=True,\n",
    "                       strLength=30)\n",
    "    df = pd.DataFrame(columns=data.keys())\n",
    "    for k in data.keys():\n",
    "        df[k] = data[k]\n",
    "    return df"
   ]
  },
  {
   "cell_type": "code",
   "execution_count": 127,
   "metadata": {},
   "outputs": [],
   "source": [
    "rr = grab_all_raveon()"
   ]
  },
  {
   "cell_type": "code",
   "execution_count": 128,
   "metadata": {},
   "outputs": [],
   "source": [
    "raveON_inputs = pd.merge(raveON_inputs,rr,on='rave_obs_id',how='left')\n",
    "# plt.plot(rr['fe_h'],rr['mg_h']-rr['fe_h'],'.',ms=1)"
   ]
  },
  {
   "cell_type": "code",
   "execution_count": 146,
   "metadata": {},
   "outputs": [],
   "source": [
    "lamost_inputs['alpha_fe']=lamost_inputs['ALPHA_M']\n",
    "lamost_inputs['e_alpha_fe']=lamost_inputs['ALPHA_M_ERR_SNR']\n",
    "raveON_inputs['alpha_fe']=raveON_inputs['mg_h_y']-raveON_inputs['fe_h_y']\n",
    "raveON_inputs['e_alpha_fe']=np.sqrt(raveON_inputs['e_mg_h_y']**2+raveON_inputs['e_fe_h_y']**2)\n",
    "raveON_inputs['fe_h']=raveON_inputs['fe_h_x']\n",
    "raveON_inputs['e_fe_h']=raveON_inputs['e_fe_h_x']\n",
    "apogee_inputs['alpha_fe']=apogee_inputs['ALPHA_M']\n",
    "apogee_inputs['e_alpha_fe']=apogee_inputs['ALPHA_M_ERR']\n",
    "galah_inputs['alpha_fe']=galah_inputs['alpha_fe']\n",
    "galah_inputs['e_alpha_fe']=galah_inputs['e_alpha_fe']\n",
    "ges_inputs['alpha_fe']=ges_inputs['ALPHA_FE']\n",
    "ges_inputs['e_alpha_fe']=ges_inputs['E_ALPHA_FE']\n",
    "\n",
    "segue_inputs['alpha_fe']=np.nan\n",
    "segue_inputs['e_alpha_fe']=np.nan\n",
    "\n",
    "segue_inputs['J']=np.nan\n",
    "segue_inputs['H']=np.nan\n",
    "segue_inputs['K']=np.nan\n",
    "segue_inputs['eJ']=np.nan\n",
    "segue_inputs['eH']=np.nan\n",
    "segue_inputs['eK']=np.nan\n",
    "\n",
    "\n",
    "rave_inputs['alpha_fe']=np.nan\n",
    "rave_inputs['e_alpha_fe']=np.nan"
   ]
  },
  {
   "cell_type": "code",
   "execution_count": 144,
   "metadata": {},
   "outputs": [],
   "source": [
    "raveON_inputs['raveid']=raveON_inputs['raveid_x']"
   ]
  },
  {
   "cell_type": "code",
   "execution_count": 65,
   "metadata": {},
   "outputs": [],
   "source": [
    "joint_table = Table.read('/home/jls/public_html/data/gaia_spectro.hdf5')"
   ]
  },
  {
   "cell_type": "code",
   "execution_count": 147,
   "metadata": {},
   "outputs": [
    {
     "name": "stdout",
     "output_type": "stream",
     "text": [
      "APOGEE\n",
      "GALAH\n",
      "GES\n",
      "LAMOST\n",
      "RAVEDR5\n",
      "RAVEON\n",
      "SEGUE\n"
     ]
    }
   ],
   "source": [
    "flds = ['APOGEE_ID','sobject_id','CNAME','obsid','raveid','raveid','specobjid']\n",
    "g = joint_table[['survey','APOGEE_ID','sobject_id','CNAME','obsid','raveid','specobjid','source_id']].copy()\n",
    "g['indx']=np.arange(len(g))\n",
    "cols = ['fe_h','e_fe_h','alpha_fe','e_alpha_fe',\n",
    "           'J','H','K','G','GBP','GRP',\n",
    "           'eJ','eH','eK','eG','eGBP','eGRP']\n",
    "for cc in cols:\n",
    "    g[cc]=np.nan\n",
    "\n",
    "for dd,fld,s in zip([apogee_inputs,galah_inputs,ges_inputs,lamost_inputs,rave_inputs,raveON_inputs,segue_inputs],\n",
    "                    flds,\n",
    "                    ['APOGEE','GALAH','GES','LAMOST','RAVEDR5','RAVEON','SEGUE']):\n",
    "    print s\n",
    "    dd['survey']=s\n",
    "    dd['ind']=1\n",
    "    for cc in cols:\n",
    "        dd[cc+'_T']=dd[cc]\n",
    "    cols_use = [fld,'survey','ind']+[c+'_T' for c in cols]\n",
    "    g = join(g,Table.from_pandas(dd[cols_use]),\n",
    "                 keys=[fld,'survey'],join_type='left')\n",
    "    for cc in cols:\n",
    "        g[cc][g['ind']==1]=g[cc+'_T'][g['ind']==1]\n",
    "    del g['ind']\n",
    "    for cc in cols:\n",
    "        del g[cc+'_T']\n",
    "g.sort(keys='indx')\n",
    "del g['indx']"
   ]
  },
  {
   "cell_type": "code",
   "execution_count": 153,
   "metadata": {},
   "outputs": [],
   "source": [
    "g.write('/data/jls/GaiaDR2/spectro/input_photometry_and_spectroscopy.hdf5',\n",
    "        format='hdf5',path='input_photometry_and_spectroscopy')"
   ]
  },
  {
   "cell_type": "code",
   "execution_count": 154,
   "metadata": {},
   "outputs": [
    {
     "data": {
      "text/plain": [
       "1429719"
      ]
     },
     "execution_count": 154,
     "metadata": {},
     "output_type": "execute_result"
    }
   ],
   "source": [
    "np.count_nonzero(g['alpha_fe']>-10.)"
   ]
  },
  {
   "cell_type": "code",
   "execution_count": null,
   "metadata": {},
   "outputs": [],
   "source": []
  }
 ],
 "metadata": {
  "kernelspec": {
   "display_name": "Python 2",
   "language": "python",
   "name": "python2"
  },
  "language_info": {
   "codemirror_mode": {
    "name": "ipython",
    "version": 2
   },
   "file_extension": ".py",
   "mimetype": "text/x-python",
   "name": "python",
   "nbconvert_exporter": "python",
   "pygments_lexer": "ipython2",
   "version": "2.7.8"
  }
 },
 "nbformat": 4,
 "nbformat_minor": 2
}
